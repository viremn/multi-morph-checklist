{
 "cells": [
  {
   "cell_type": "markdown",
   "metadata": {},
   "source": [
    "## Negation 1"
   ]
  },
  {
   "cell_type": "code",
   "execution_count": 19,
   "metadata": {},
   "outputs": [],
   "source": [
    "data = [\n",
    "         {'lang': 'en',\n",
    "        'context': 'Emma and Monica are not doctors, but Mark and Andrew are.',\n",
    "         'question': 'Who are doctors?',\n",
    "         'answer': 'Mark and Andrew.'},\n",
    "        {'lang': 'de',\n",
    "        'context': 'Anna und Ulrike sind keine Ingenieurinnen, aber Robert und Hans sind es.',\n",
    "         'question': 'Wer sind Ingenieure?',\n",
    "         'answer': 'Robert und Hans.'},\n",
    "         {'lang': 'fi',\n",
    "        'context': 'Hilppa ja Henriikka eivät ole poliiseja mutta Kaija ja Juuli ovat.',\n",
    "         'question': 'Ketkä ovat poliisit?',\n",
    "         'answer': 'Kaija ja Juuli.'},\n",
    "         # normal\n",
    "         {'lang': 'ja',\n",
    "        'context': '陽向と陽翔は弁護士ではないですが、誠と清はそうです。',\n",
    "         'question': '何方が弁護士ですか。',\n",
    "         'answer': '誠と清です。'},\n",
    "         # familiar\n",
    "         {'lang': 'ja',\n",
    "        'context': '真由美と敬子は作家じゃないけど、明梨と優花はそうだ。',\n",
    "         'question': '誰が作家？',\n",
    "         'answer': '明梨と優花。'},\n",
    "         # formal\n",
    "         {'lang': 'ja',\n",
    "        'context': '明梨様と優花様は大工ではございませんが、誠様と清様はでございます。',\n",
    "         'question': '誰が大工でございますか。',\n",
    "         'answer': '誠様と清様でございます。'},]\n"
   ]
  },
  {
   "cell_type": "markdown",
   "metadata": {},
   "source": [
    "### English"
   ]
  },
  {
   "cell_type": "code",
   "execution_count": 20,
   "metadata": {},
   "outputs": [
    {
     "name": "stdout",
     "output_type": "stream",
     "text": [
      "['Mark and Andrew', 'Andrew and Mark'] ['Mark and Andrew are doctors', 'Andrew and Mark are doctors'] ['Emma and Monica are doctors', 'Monica and Emma are doctors']\n"
     ]
    }
   ],
   "source": [
    "eng_data = data[0]\n",
    "\n",
    "# POSITIVES\n",
    "# Mark and Andrew\n",
    "# Andrew and Mark\n",
    "# Mark and Andrew are doctors\n",
    "# Andrew and Mark are doctors\n",
    "\n",
    "# NEGATIVES\n",
    "# Mark and Andrew\n",
    "# Andrew and Mark\n",
    "# Mark and Andrew are not doctors\n",
    "# Andrew and Mark are not doctors\n",
    "# Emma and Monica are doctors\n",
    "# Monica and Emma are doctors\n",
    "\n",
    "conj = ' and '\n",
    "\n",
    "subjects = eng_data['answer'].strip('.')\n",
    "subjects = [subjects, conj.join(subjects.split(conj)[::-1])] if conj in subjects else [subjects]\n",
    "predicate = ' '.join(eng_data['question'].strip('?').split(' ')[1:])\n",
    "non_subjects = eng_data['context'].split(' ')\n",
    "non_subjects = ' '.join(non_subjects[:3]) if conj.strip() in non_subjects[:3] else ' '.join(non_subjects[:1])\n",
    "non_subjects = [non_subjects, conj.join(non_subjects.split(conj)[::-1])] if conj in non_subjects else [non_subjects]\n",
    "\n",
    "perfect_mathes = subjects\n",
    "positive_matches = [subject + ' ' + predicate for subject in subjects]\n",
    "negative_matches = [subject + ' ' + predicate for subject in non_subjects]\n",
    "\n",
    "print(perfect_mathes, positive_matches, negative_matches)\n",
    "\n",
    "\n"
   ]
  },
  {
   "cell_type": "markdown",
   "metadata": {},
   "source": [
    "### German"
   ]
  },
  {
   "cell_type": "code",
   "execution_count": 21,
   "metadata": {},
   "outputs": [
    {
     "name": "stdout",
     "output_type": "stream",
     "text": [
      "['Robert und Hans', 'Hans und Robert'] ['Robert und Hans sind Ingenieure', 'Hans und Robert sind Ingenieure'] ['Anna und Ulrike sind Ingenieure', 'Ulrike und Anna sind Ingenieure']\n"
     ]
    }
   ],
   "source": [
    "de_data = data[1]\n",
    "\n",
    "# POSITIVES\n",
    "# Mark and Andrew\n",
    "# Andrew and Mark\n",
    "# Mark and Andrew are doctors\n",
    "# Andrew and Mark are doctors\n",
    "\n",
    "# NEGATIVES\n",
    "# Mark and Andrew\n",
    "# Andrew and Mark\n",
    "# Mark and Andrew are not doctors\n",
    "# Andrew and Mark are not doctors\n",
    "# Emma and Monica are doctors\n",
    "# Monica and Emma are doctors\n",
    "\n",
    "conj = ' und '\n",
    "\n",
    "subjects = de_data['answer'].strip('.')\n",
    "subjects = [subjects, conj.join(subjects.split(conj)[::-1])] if conj in subjects else [subjects]\n",
    "predicate = ' '.join(de_data['question'].strip('?').split(' ')[1:])\n",
    "non_subjects = de_data['context'].split(' ')\n",
    "non_subjects = ' '.join(non_subjects[:3]) if conj.strip() in non_subjects[:3] else ' '.join(non_subjects[:1])\n",
    "non_subjects = [non_subjects, conj.join(non_subjects.split(conj)[::-1])] if conj in non_subjects else [non_subjects]\n",
    "\n",
    "perfect_mathes = subjects\n",
    "positive_matches = [subject + ' ' + predicate for subject in subjects]\n",
    "negative_matches = [subject + ' ' + predicate for subject in non_subjects]\n",
    "\n",
    "print(perfect_mathes, positive_matches, negative_matches)\n",
    "\n",
    "\n",
    "\n"
   ]
  },
  {
   "cell_type": "markdown",
   "metadata": {},
   "source": [
    "### Finnish"
   ]
  },
  {
   "cell_type": "code",
   "execution_count": 22,
   "metadata": {},
   "outputs": [
    {
     "name": "stdout",
     "output_type": "stream",
     "text": [
      "['Kaija ja Juuli', 'Juuli ja Kaija'] ['Kaija ja Juuli ovat poliisit', 'Juuli ja Kaija ovat poliisit'] ['Hilppa ja Henriikka ovat poliisit', 'Henriikka ja Hilppa ovat poliisit']\n"
     ]
    }
   ],
   "source": [
    "fi_data = data[2]\n",
    "\n",
    "# POSITIVES\n",
    "# Mark and Andrew\n",
    "# Andrew and Mark\n",
    "# Mark and Andrew are doctors\n",
    "# Andrew and Mark are doctors\n",
    "\n",
    "# NEGATIVES\n",
    "# Mark and Andrew\n",
    "# Andrew and Mark\n",
    "# Mark and Andrew are not doctors\n",
    "# Andrew and Mark are not doctors\n",
    "# Emma and Monica are doctors\n",
    "# Monica and Emma are doctors\n",
    "\n",
    "conj = ' ja '\n",
    "\n",
    "subjects = fi_data['answer'].strip('.')\n",
    "subjects = [subjects, conj.join(subjects.split(conj)[::-1])] if conj in subjects else [subjects]\n",
    "predicate = ' '.join(fi_data['question'].strip('?').split(' ')[1:])\n",
    "non_subjects = fi_data['context'].split(' ')\n",
    "non_subjects = ' '.join(non_subjects[:3]) if conj.strip() in non_subjects[:3] else ' '.join(non_subjects[:1])\n",
    "non_subjects = [non_subjects, conj.join(non_subjects.split(conj)[::-1])] if conj in non_subjects else [non_subjects]\n",
    "\n",
    "perfect_mathes = subjects\n",
    "positive_matches = [subject + ' ' + predicate for subject in subjects]\n",
    "negative_matches = [subject + ' ' + predicate for subject in non_subjects]\n",
    "\n",
    "print(perfect_mathes, positive_matches, negative_matches)"
   ]
  },
  {
   "cell_type": "markdown",
   "metadata": {},
   "source": [
    "### Japanese"
   ]
  },
  {
   "cell_type": "code",
   "execution_count": 40,
   "metadata": {},
   "outputs": [
    {
     "name": "stdout",
     "output_type": "stream",
     "text": [
      "['誠と清です', '清と誠です']\n",
      "['誠と清は弁護士です', '誠と清が弁護士です', '清と誠は弁護士です', '清と誠が弁護士です', '弁護士は誠と清です', '弁護士は清と誠です']\n",
      "['陽向と陽翔は弁護士です', '陽向と陽翔が弁護士です', '陽翔と陽向は弁護士です', '陽翔と陽向が弁護士です', '弁護士は陽向と陽翔です', '弁護士は陽翔と陽向です']\n"
     ]
    }
   ],
   "source": [
    "ja_data = data[3]\n",
    "\n",
    "# POSITIVES\n",
    "# Mark and Andrew\n",
    "# Andrew and Mark\n",
    "# Mark and Andrew are doctors\n",
    "# Andrew and Mark are doctors\n",
    "\n",
    "# NEGATIVES\n",
    "# Mark and Andrew\n",
    "# Andrew and Mark\n",
    "# Mark and Andrew are not doctors\n",
    "# Andrew and Mark are not doctors\n",
    "# Emma and Monica are doctors\n",
    "# Monica and Emma are doctors\n",
    "\n",
    "conj = 'と'\n",
    "cop = 'でございます' if ja_data['answer'].endswith('でございます。') else 'です' if ja_data['answer'].endswith('です。') else ''\n",
    "\n",
    "subjects = ja_data['answer'].strip('。')[:-len(cop)]\n",
    "subjects = [subjects, conj.join(subjects.split(conj)[::-1])] if conj in subjects else [subjects]\n",
    "\n",
    "predicate = ' '.join(ja_data['question'].rstrip('か。').split('が')[1:])\n",
    "\n",
    "non_subjects = ja_data['context'].split('は')[0]\n",
    "non_subjects = [non_subjects, conj.join(non_subjects.split(conj)[::-1])] if conj in non_subjects else [non_subjects]\n",
    "\n",
    "perfect_mathes = [subject + cop for subject in subjects]\n",
    "positive_matches = [subject + part + predicate for subject in subjects for part in ('は', 'が')]\n",
    "positive_matches.extend([predicate[:-len(cop)] + 'は' + subject + cop for subject in subjects])\n",
    "negative_matches = [subject + part + predicate for subject in non_subjects for part in ('は', 'が')]\n",
    "negative_matches.extend([predicate[:-len(cop)] + 'は' + subject + cop for subject in non_subjects])\n",
    "\n",
    "print(perfect_mathes)\n",
    "print(positive_matches) \n",
    "print(negative_matches)"
   ]
  },
  {
   "cell_type": "code",
   "execution_count": 38,
   "metadata": {},
   "outputs": [
    {
     "name": "stdout",
     "output_type": "stream",
     "text": [
      "['明梨と優花', '明梨と優花だ', '優花と明梨', '優花と明梨だ']\n",
      "['明梨と優花は作家', '明梨と優花が作家', '優花と明梨は作家', '優花と明梨が作家', '作家は明梨と優花', '作家は明梨と優花だ', '作家は優花と明梨', '作家は優花と明梨だ']\n",
      "['真由美と敬子は作家', '真由美と敬子が作家', '敬子と真由美は作家', '敬子と真由美が作家', '作家は真由美と敬子', '作家は真由美と敬子だ', '作家は敬子と真由美', '作家は敬子と真由美だ']\n"
     ]
    }
   ],
   "source": [
    "ja_data = data[4]\n",
    "\n",
    "# POSITIVES\n",
    "# Mark and Andrew\n",
    "# Andrew and Mark\n",
    "# Mark and Andrew are doctors\n",
    "# Andrew and Mark are doctors\n",
    "\n",
    "# NEGATIVES\n",
    "# Mark and Andrew\n",
    "# Andrew and Mark\n",
    "# Mark and Andrew are not doctors\n",
    "# Andrew and Mark are not doctors\n",
    "# Emma and Monica are doctors\n",
    "# Monica and Emma are doctors\n",
    "\n",
    "conj = 'と'\n",
    "cop = 'でございます' if ja_data['answer'].endswith('でございます。') else 'です' if ja_data['answer'].endswith('です。') else ''\n",
    "\n",
    "subjects = ja_data['answer'].strip('。')\n",
    "subjects = [subjects, conj.join(subjects.split(conj)[::-1])] if conj in subjects else [subjects]\n",
    "\n",
    "predicate = ' '.join(ja_data['question'].rstrip('か。？').split('が')[1:])\n",
    "\n",
    "non_subjects = ja_data['context'].split('は')[0]\n",
    "non_subjects = [non_subjects, conj.join(non_subjects.split(conj)[::-1])] if conj in non_subjects else [non_subjects]\n",
    "\n",
    "perfect_mathes = [subject + cop for subject in subjects for cop in ('', 'だ')]\n",
    "positive_matches = [subject + part + predicate for subject in subjects for part in ('は', 'が')]\n",
    "positive_matches.extend([predicate + 'は' + subject + cop for subject in subjects for cop in ('', 'だ')])\n",
    "negative_matches = [subject + part + predicate for subject in non_subjects for part in ('は', 'が')]\n",
    "negative_matches.extend([predicate + 'は' + subject + cop for subject in non_subjects for cop in ('', 'だ')])\n",
    "\n",
    "print(perfect_mathes)\n",
    "print(positive_matches) \n",
    "print(negative_matches)\n",
    "\n",
    "# familiar\n",
    "# {'lang': 'ja',\n",
    "# 'context': '真由美と敬子は作家じゃないけど、明梨と優花はそうだ。',\n",
    "# 'question': '誰が作家？',\n",
    "# 'answer': '明梨と優花。'},"
   ]
  },
  {
   "cell_type": "code",
   "execution_count": 39,
   "metadata": {},
   "outputs": [
    {
     "name": "stdout",
     "output_type": "stream",
     "text": [
      "['誠様と清様でございます', '清様と誠様でございます']\n",
      "['誠様と清様は大工でございます', '誠様と清様が大工でございます', '清様と誠様は大工でございます', '清様と誠様が大工でございます', '大工は誠様と清様でございます', '大工は清様と誠様でございます']\n",
      "['明梨様と優花様は大工でございます', '明梨様と優花様が大工でございます', '優花様と明梨様は大工でございます', '優花様と明梨様が大工でございます', '大工は明梨様と優花様でございます', '大工は優花様と明梨様でございます']\n"
     ]
    }
   ],
   "source": [
    "ja_data = data[5]\n",
    "\n",
    "# POSITIVES\n",
    "# Mark and Andrew\n",
    "# Andrew and Mark\n",
    "# Mark and Andrew are doctors\n",
    "# Andrew and Mark are doctors\n",
    "\n",
    "# NEGATIVES\n",
    "# Mark and Andrew\n",
    "# Andrew and Mark\n",
    "# Mark and Andrew are not doctors\n",
    "# Andrew and Mark are not doctors\n",
    "# Emma and Monica are doctors\n",
    "# Monica and Emma are doctors\n",
    "\n",
    "conj = 'と'\n",
    "cop = 'でございます' if ja_data['answer'].endswith('でございます。') else 'です' if ja_data['answer'].endswith('です。') else ''\n",
    "\n",
    "subjects = ja_data['answer'].strip('。')[:-len(cop)]\n",
    "subjects = [subjects, conj.join(subjects.split(conj)[::-1])] if conj in subjects else [subjects]\n",
    "\n",
    "predicate = ' '.join(ja_data['question'].rstrip('か。').split('が')[1:])\n",
    "\n",
    "non_subjects = ja_data['context'].split('は')[0]\n",
    "non_subjects = [non_subjects, conj.join(non_subjects.split(conj)[::-1])] if conj in non_subjects else [non_subjects]\n",
    "\n",
    "perfect_mathes = [subject + cop for subject in subjects]\n",
    "positive_matches = [subject + part + predicate for subject in subjects for part in ('は', 'が')]\n",
    "positive_matches.extend([predicate[:-len(cop)] + 'は' + subject + cop for subject in subjects])\n",
    "negative_matches = [subject + part + predicate for subject in non_subjects for part in ('は', 'が')]\n",
    "negative_matches.extend([predicate[:-len(cop)] + 'は' + subject + cop for subject in non_subjects])\n",
    "\n",
    "print(perfect_mathes)\n",
    "print(positive_matches) \n",
    "print(negative_matches)"
   ]
  },
  {
   "cell_type": "markdown",
   "metadata": {},
   "source": [
    "## Negation 2"
   ]
  },
  {
   "cell_type": "code",
   "execution_count": null,
   "metadata": {},
   "outputs": [],
   "source": [
    "data = [\n",
    "        {'lang': 'en',\n",
    "        'context': 'Emma and Monica are not doctors, but Mark and Andrew are.',\n",
    "        'question': 'Who are doctors?',\n",
    "        'answer': 'Mark and Andrew.'},\n",
    "        {'lang': 'de',\n",
    "        'context': 'Anna und Ulrike sind keine Ingenieurinnen, aber Robert und Hans sind es.',\n",
    "        'question': 'Wer sind Ingenieure?',\n",
    "        'answer': 'Robert und Hans.'},\n",
    "        {'lang': 'fi',\n",
    "        'context': 'Hilppa ja Henriikka eivät ole poliiseja mutta Kaija ja Juuli ovat.',\n",
    "        'question': 'Ketkä ovat poliisit?',\n",
    "        'answer': 'Kaija ja Juuli.'},\n",
    "         # normal\n",
    "        {'lang': 'ja',\n",
    "        'context': '陽向と陽翔は弁護士ではないですが、誠と清はそうです。',\n",
    "        'question': '何方が弁護士ですか。',\n",
    "        'answer': '誠と清です。'},\n",
    "         # familiar\n",
    "        {'lang': 'ja',\n",
    "        'context': '真由美と敬子は作家じゃないけど、明梨と優花はそうだ。',\n",
    "        'question': '誰が作家？',\n",
    "        'answer': '明梨と優花。'},\n",
    "         # formal\n",
    "        {'lang': 'ja',\n",
    "        'context': '明梨様と優花様は大工ではございませんが、誠様と清様はでございます。',\n",
    "        'question': '誰が大工でございますか。',\n",
    "        'answer': '誠様と清様でございます。'},]"
   ]
  },
  {
   "cell_type": "markdown",
   "metadata": {},
   "source": [
    "## Numerals 1"
   ]
  },
  {
   "cell_type": "markdown",
   "metadata": {},
   "source": [
    "## Numerals 2"
   ]
  },
  {
   "cell_type": "markdown",
   "metadata": {},
   "source": [
    "## Spatial 1"
   ]
  },
  {
   "cell_type": "markdown",
   "metadata": {},
   "source": [
    "## Spatial 2"
   ]
  },
  {
   "cell_type": "markdown",
   "metadata": {},
   "source": [
    "## Temporal 1"
   ]
  },
  {
   "cell_type": "markdown",
   "metadata": {},
   "source": [
    "## Temporal 2"
   ]
  },
  {
   "cell_type": "markdown",
   "metadata": {},
   "source": [
    "## Comparative 1"
   ]
  },
  {
   "cell_type": "markdown",
   "metadata": {},
   "source": [
    "## Comparative 2"
   ]
  },
  {
   "cell_type": "markdown",
   "metadata": {},
   "source": [
    "## JA Counters"
   ]
  },
  {
   "cell_type": "code",
   "execution_count": null,
   "metadata": {},
   "outputs": [],
   "source": []
  }
 ],
 "metadata": {
  "kernelspec": {
   "display_name": "thesis",
   "language": "python",
   "name": "python3"
  },
  "language_info": {
   "codemirror_mode": {
    "name": "ipython",
    "version": 3
   },
   "file_extension": ".py",
   "mimetype": "text/x-python",
   "name": "python",
   "nbconvert_exporter": "python",
   "pygments_lexer": "ipython3",
   "version": "3.9.19"
  }
 },
 "nbformat": 4,
 "nbformat_minor": 2
}
