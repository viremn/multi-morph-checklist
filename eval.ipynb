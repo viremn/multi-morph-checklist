{
 "cells": [
  {
   "cell_type": "markdown",
   "metadata": {},
   "source": [
    "## Negation 1"
   ]
  },
  {
   "cell_type": "code",
   "execution_count": 27,
   "metadata": {},
   "outputs": [],
   "source": [
    "data = [\n",
    "         {'lang': 'en',\n",
    "        'context': 'Monica is not a doctor, but Mark is.',\n",
    "         'question': 'Who is a doctor?',\n",
    "         'answer': 'Mark.'},\n",
    "        {'lang': 'de',\n",
    "        'context': 'Anna und Ulrike sind keine Ingenieurinnen, aber Robert und Hans sind es.',\n",
    "         'question': 'Wer sind Ingenieure?',\n",
    "         'answer': 'Robert und Hans.'},\n",
    "         {'lang': 'fi',\n",
    "        'context': 'Hilppa ja Henriikka eivät ole poliiseja mutta Kaija ja Juuli ovat.',\n",
    "         'question': 'Ketkä ovat poliisit?',\n",
    "         'answer': 'Kaija ja Juuli.'},\n",
    "         # normal\n",
    "         {'lang': 'ja',\n",
    "        'context': '陽向と陽翔は弁護士ではないですが、誠と清はそうです。',\n",
    "         'question': '何方が弁護士ですか。',\n",
    "         'answer': '誠と清です。'},\n",
    "         # familiar\n",
    "         {'lang': 'ja',\n",
    "        'context': '真由美と敬子は作家じゃないけど、明梨と優花はそうだ。',\n",
    "         'question': '誰が作家？',\n",
    "         'answer': '明梨と優花。'},\n",
    "         # formal\n",
    "         {'lang': 'ja',\n",
    "        'context': '明梨様と優花様は大工ではございませんが、誠様と清様はでございます。',\n",
    "         'question': '誰が大工でございますか。',\n",
    "         'answer': '誠様と清様でございます。'},]\n"
   ]
  },
  {
   "cell_type": "markdown",
   "metadata": {},
   "source": [
    "### English"
   ]
  },
  {
   "cell_type": "code",
   "execution_count": 11,
   "metadata": {},
   "outputs": [
    {
     "name": "stdout",
     "output_type": "stream",
     "text": [
      "['Mark'] ['Mark is a doctor'] ['Monica is a doctor']\n"
     ]
    }
   ],
   "source": [
    "eng_data = data[0]\n",
    "\n",
    "# POSITIVES\n",
    "# Mark and Andrew\n",
    "# Andrew and Mark\n",
    "# Mark and Andrew are doctors\n",
    "# Andrew and Mark are doctors\n",
    "\n",
    "# NEGATIVES\n",
    "# Mark and Andrew\n",
    "# Andrew and Mark\n",
    "# Mark and Andrew are not doctors\n",
    "# Andrew and Mark are not doctors\n",
    "# Emma and Monica are doctors\n",
    "# Monica and Emma are doctors\n",
    "\n",
    "conj = ' and '\n",
    "\n",
    "subjects = eng_data['answer'].strip('.')\n",
    "subjects = [subjects, conj.join(subjects.split(conj)[::-1])] if conj in subjects else [subjects]\n",
    "predicate = ' '.join(eng_data['question'].strip('?').split(' ')[1:])\n",
    "non_subjects = eng_data['context'].split(' ')\n",
    "non_subjects = ' '.join(non_subjects[:3]) if conj.strip() in non_subjects[:3] else ' '.join(non_subjects[:1])\n",
    "non_subjects = [non_subjects, conj.join(non_subjects.split(conj)[::-1])] if conj in non_subjects else [non_subjects]\n",
    "\n",
    "perfect_mathes = subjects\n",
    "positive_matches = [subject + ' ' + predicate for subject in subjects]\n",
    "negative_matches = [subject + ' ' + predicate for subject in non_subjects]\n",
    "\n",
    "print(perfect_mathes, positive_matches, negative_matches)\n",
    "\n",
    "\n"
   ]
  },
  {
   "cell_type": "markdown",
   "metadata": {},
   "source": [
    "### German"
   ]
  },
  {
   "cell_type": "code",
   "execution_count": 21,
   "metadata": {},
   "outputs": [
    {
     "name": "stdout",
     "output_type": "stream",
     "text": [
      "['Robert und Hans', 'Hans und Robert'] ['Robert und Hans sind Ingenieure', 'Hans und Robert sind Ingenieure'] ['Anna und Ulrike sind Ingenieure', 'Ulrike und Anna sind Ingenieure']\n"
     ]
    }
   ],
   "source": [
    "de_data = data[1]\n",
    "\n",
    "# POSITIVES\n",
    "# Robert und Hans\n",
    "# Hans und Robert\n",
    "# Mark and Andrew are doctors\n",
    "# Andrew and Mark are doctors\n",
    "\n",
    "# NEGATIVES\n",
    "# Mark and Andrew\n",
    "# Andrew and Mark\n",
    "# Mark and Andrew are not doctors\n",
    "# Andrew and Mark are not doctors\n",
    "# Emma and Monica are doctors\n",
    "# Monica and Emma are doctors\n",
    "\n",
    "conj = ' und '\n",
    "\n",
    "subjects = de_data['answer'].strip('.')\n",
    "subjects = [subjects, conj.join(subjects.split(conj)[::-1])] if conj in subjects else [subjects]\n",
    "predicate = ' '.join(de_data['question'].strip('?').split(' ')[1:])\n",
    "non_subjects = de_data['context'].split(' ')\n",
    "non_subjects = ' '.join(non_subjects[:3]) if conj.strip() in non_subjects[:3] else ' '.join(non_subjects[:1])\n",
    "non_subjects = [non_subjects, conj.join(non_subjects.split(conj)[::-1])] if conj in non_subjects else [non_subjects]\n",
    "\n",
    "perfect_mathes = subjects\n",
    "positive_matches = [subject + ' ' + predicate for subject in subjects]\n",
    "negative_matches = [subject + ' ' + predicate for subject in non_subjects]\n",
    "\n",
    "print(perfect_mathes, positive_matches, negative_matches)\n",
    "\n",
    "\n",
    "\n"
   ]
  },
  {
   "cell_type": "markdown",
   "metadata": {},
   "source": [
    "### Finnish"
   ]
  },
  {
   "cell_type": "code",
   "execution_count": 22,
   "metadata": {},
   "outputs": [
    {
     "name": "stdout",
     "output_type": "stream",
     "text": [
      "['Kaija ja Juuli', 'Juuli ja Kaija'] ['Kaija ja Juuli ovat poliisit', 'Juuli ja Kaija ovat poliisit'] ['Hilppa ja Henriikka ovat poliisit', 'Henriikka ja Hilppa ovat poliisit']\n"
     ]
    }
   ],
   "source": [
    "fi_data = data[2]\n",
    "\n",
    "# POSITIVES\n",
    "# Mark and Andrew\n",
    "# Andrew and Mark\n",
    "# Mark and Andrew are doctors\n",
    "# Andrew and Mark are doctors\n",
    "\n",
    "# NEGATIVES\n",
    "# Mark and Andrew\n",
    "# Andrew and Mark\n",
    "# Mark and Andrew are not doctors\n",
    "# Andrew and Mark are not doctors\n",
    "# Emma and Monica are doctors\n",
    "# Monica and Emma are doctors\n",
    "\n",
    "conj = ' ja '\n",
    "\n",
    "subjects = fi_data['answer'].strip('.')\n",
    "subjects = [subjects, conj.join(subjects.split(conj)[::-1])] if conj in subjects else [subjects]\n",
    "predicate = ' '.join(fi_data['question'].strip('?').split(' ')[1:])\n",
    "non_subjects = fi_data['context'].split(' ')\n",
    "non_subjects = ' '.join(non_subjects[:3]) if conj.strip() in non_subjects[:3] else ' '.join(non_subjects[:1])\n",
    "non_subjects = [non_subjects, conj.join(non_subjects.split(conj)[::-1])] if conj in non_subjects else [non_subjects]\n",
    "\n",
    "perfect_mathes = subjects\n",
    "positive_matches = [subject + ' ' + predicate for subject in subjects]\n",
    "negative_matches = [subject + ' ' + predicate for subject in non_subjects]\n",
    "\n",
    "print(perfect_mathes, positive_matches, negative_matches)"
   ]
  },
  {
   "cell_type": "markdown",
   "metadata": {},
   "source": [
    "### Japanese"
   ]
  },
  {
   "cell_type": "code",
   "execution_count": 40,
   "metadata": {},
   "outputs": [
    {
     "name": "stdout",
     "output_type": "stream",
     "text": [
      "['誠と清です', '清と誠です']\n",
      "['誠と清は弁護士です', '誠と清が弁護士です', '清と誠は弁護士です', '清と誠が弁護士です', '弁護士は誠と清です', '弁護士は清と誠です']\n",
      "['陽向と陽翔は弁護士です', '陽向と陽翔が弁護士です', '陽翔と陽向は弁護士です', '陽翔と陽向が弁護士です', '弁護士は陽向と陽翔です', '弁護士は陽翔と陽向です']\n"
     ]
    }
   ],
   "source": [
    "ja_data = data[3]\n",
    "\n",
    "# POSITIVES\n",
    "# Mark and Andrew\n",
    "# Andrew and Mark\n",
    "# Mark and Andrew are doctors\n",
    "# Andrew and Mark are doctors\n",
    "\n",
    "# NEGATIVES\n",
    "# Mark and Andrew\n",
    "# Andrew and Mark\n",
    "# Mark and Andrew are not doctors\n",
    "# Andrew and Mark are not doctors\n",
    "# Emma and Monica are doctors\n",
    "# Monica and Emma are doctors\n",
    "\n",
    "conj = 'と'\n",
    "cop = 'でございます' if ja_data['answer'].endswith('でございます。') else 'です' if ja_data['answer'].endswith('です。') else ''\n",
    "\n",
    "subjects = ja_data['answer'].strip('。')[:-len(cop)]\n",
    "subjects = [subjects, conj.join(subjects.split(conj)[::-1])] if conj in subjects else [subjects]\n",
    "\n",
    "predicate = ' '.join(ja_data['question'].rstrip('か。').split('が')[1:])\n",
    "\n",
    "non_subjects = ja_data['context'].split('は')[0]\n",
    "non_subjects = [non_subjects, conj.join(non_subjects.split(conj)[::-1])] if conj in non_subjects else [non_subjects]\n",
    "\n",
    "perfect_mathes = [subject + cop for subject in subjects]\n",
    "positive_matches = [subject + part + predicate for subject in subjects for part in ('は', 'が')]\n",
    "positive_matches.extend([predicate[:-len(cop)] + 'は' + subject + cop for subject in subjects])\n",
    "negative_matches = [subject + part + predicate for subject in non_subjects for part in ('は', 'が')]\n",
    "negative_matches.extend([predicate[:-len(cop)] + 'は' + subject + cop for subject in non_subjects])\n",
    "\n",
    "print(perfect_mathes)\n",
    "print(positive_matches) \n",
    "print(negative_matches)"
   ]
  },
  {
   "cell_type": "code",
   "execution_count": 38,
   "metadata": {},
   "outputs": [
    {
     "name": "stdout",
     "output_type": "stream",
     "text": [
      "['明梨と優花', '明梨と優花だ', '優花と明梨', '優花と明梨だ']\n",
      "['明梨と優花は作家', '明梨と優花が作家', '優花と明梨は作家', '優花と明梨が作家', '作家は明梨と優花', '作家は明梨と優花だ', '作家は優花と明梨', '作家は優花と明梨だ']\n",
      "['真由美と敬子は作家', '真由美と敬子が作家', '敬子と真由美は作家', '敬子と真由美が作家', '作家は真由美と敬子', '作家は真由美と敬子だ', '作家は敬子と真由美', '作家は敬子と真由美だ']\n"
     ]
    }
   ],
   "source": [
    "ja_data = data[4]\n",
    "\n",
    "# POSITIVES\n",
    "# Mark and Andrew\n",
    "# Andrew and Mark\n",
    "# Mark and Andrew are doctors\n",
    "# Andrew and Mark are doctors\n",
    "\n",
    "# NEGATIVES\n",
    "# Mark and Andrew\n",
    "# Andrew and Mark\n",
    "# Mark and Andrew are not doctors\n",
    "# Andrew and Mark are not doctors\n",
    "# Emma and Monica are doctors\n",
    "# Monica and Emma are doctors\n",
    "\n",
    "conj = 'と'\n",
    "cop = 'でございます' if ja_data['answer'].endswith('でございます。') else 'です' if ja_data['answer'].endswith('です。') else ''\n",
    "\n",
    "subjects = ja_data['answer'].strip('。 ')\n",
    "subjects = [subjects, conj.join(subjects.split(conj)[::-1])] if conj in subjects else [subjects]\n",
    "\n",
    "predicate = ' '.join(ja_data['question'].rstrip('か。？').split('が')[1:])\n",
    "\n",
    "non_subjects = ja_data['context'].split('は')[0]\n",
    "non_subjects = [non_subjects, conj.join(non_subjects.split(conj)[::-1])] if conj in non_subjects else [non_subjects]\n",
    "\n",
    "perfect_mathes = [subject + cop for subject in subjects for cop in ('', 'だ')]\n",
    "positive_matches = [subject + part + predicate for subject in subjects for part in ('は', 'が')]\n",
    "positive_matches.extend([predicate + 'は' + subject + cop for subject in subjects for cop in ('', 'だ')])\n",
    "negative_matches = [subject + part + predicate for subject in non_subjects for part in ('は', 'が')]\n",
    "negative_matches.extend([predicate + 'は' + subject + cop for subject in non_subjects for cop in ('', 'だ')])\n",
    "\n",
    "print(perfect_mathes)\n",
    "print(positive_matches) \n",
    "print(negative_matches)\n",
    "\n",
    "# familiar\n",
    "# {'lang': 'ja',\n",
    "# 'context': '真由美と敬子は作家じゃないけど、明梨と優花はそうだ。',\n",
    "# 'question': '誰が作家？',\n",
    "# 'answer': '明梨と優花。'},"
   ]
  },
  {
   "cell_type": "code",
   "execution_count": 39,
   "metadata": {},
   "outputs": [
    {
     "name": "stdout",
     "output_type": "stream",
     "text": [
      "['誠様と清様でございます', '清様と誠様でございます']\n",
      "['誠様と清様は大工でございます', '誠様と清様が大工でございます', '清様と誠様は大工でございます', '清様と誠様が大工でございます', '大工は誠様と清様でございます', '大工は清様と誠様でございます']\n",
      "['明梨様と優花様は大工でございます', '明梨様と優花様が大工でございます', '優花様と明梨様は大工でございます', '優花様と明梨様が大工でございます', '大工は明梨様と優花様でございます', '大工は優花様と明梨様でございます']\n"
     ]
    }
   ],
   "source": [
    "ja_data = data[5]\n",
    "\n",
    "# POSITIVES\n",
    "# Mark and Andrew\n",
    "# Andrew and Mark\n",
    "# Mark and Andrew are doctors\n",
    "# Andrew and Mark are doctors\n",
    "\n",
    "# NEGATIVES\n",
    "# Mark and Andrew\n",
    "# Andrew and Mark\n",
    "# Mark and Andrew are not doctors\n",
    "# Andrew and Mark are not doctors\n",
    "# Emma and Monica are doctors\n",
    "# Monica and Emma are doctors\n",
    "\n",
    "conj = 'と'\n",
    "cop = 'でございます' if ja_data['answer'].endswith('でございます。') else 'です' if ja_data['answer'].endswith('です。') else ''\n",
    "\n",
    "subjects = ja_data['answer'].strip('。')[:-len(cop)]\n",
    "subjects = [subjects, conj.join(subjects.split(conj)[::-1])] if conj in subjects else [subjects]\n",
    "\n",
    "predicate = ' '.join(ja_data['question'].rstrip('か。').split('が')[1:])\n",
    "\n",
    "non_subjects = ja_data['context'].split('は')[0]\n",
    "non_subjects = [non_subjects, conj.join(non_subjects.split(conj)[::-1])] if conj in non_subjects else [non_subjects]\n",
    "\n",
    "perfect_mathes = [subject + cop for subject in subjects]\n",
    "positive_matches = [subject + part + predicate for subject in subjects for part in ('は', 'が')]\n",
    "positive_matches.extend([predicate[:-len(cop)] + 'は' + subject + cop for subject in subjects])\n",
    "negative_matches = [subject + part + predicate for subject in non_subjects for part in ('は', 'が')]\n",
    "negative_matches.extend([predicate[:-len(cop)] + 'は' + subject + cop for subject in non_subjects])\n",
    "\n",
    "print(perfect_mathes)\n",
    "print(positive_matches) \n",
    "print(negative_matches)"
   ]
  },
  {
   "cell_type": "code",
   "execution_count": 50,
   "metadata": {},
   "outputs": [
    {
     "name": "stdout",
     "output_type": "stream",
     "text": [
      "{'lang': 'ja', 'context': '明梨様と優花様は大工ではございませんが、誠様と清様はでございます。', 'question': '誰が大工でございますか。', 'answer': '誠様と清様でございます。'}\n",
      "['誠様と清様でございます', '清様と誠様でございます']\n",
      "['誠様と清様が大工でございます', '大工は誠様と清様でございます', '清様と誠様が大工でございます', '大工は清様と誠様でございます']\n",
      "['明梨様と優花様が大工でございます', '大工は明梨様と優花様でございます', '優花様と明梨様が大工でございます', '大工は優花様と明梨様でございます']\n"
     ]
    }
   ],
   "source": [
    "ja_data = data[5]\n",
    "\n",
    "# POSITIVES\n",
    "# Mark and Andrew\n",
    "# Andrew and Mark\n",
    "# Mark and Andrew are doctors\n",
    "# Andrew and Mark are doctors\n",
    "\n",
    "# NEGATIVES\n",
    "# Mark and Andrewです\n",
    "# Monica and Emma are doctors\n",
    "print(ja_data)\n",
    "\n",
    "conj = 'と'\n",
    "cop = 'でございます' if ja_data['answer'].endswith('でございます。') else 'です' if ja_data['answer'].endswith('です。') else ''\n",
    "\n",
    "subjects = ja_data['answer'].strip('。')[:-len(cop)] if cop != '' else ja_data['answer'].strip('。 ')\n",
    "subjects = [subjects, conj.join(subjects.split(conj)[::-1])] if conj in subjects else [subjects]\n",
    "\n",
    "predicate = ' '.join(ja_data['question'].rstrip('か。？?').split('が')[1:])\n",
    "predicate = predicate[:-len(cop)] if cop != '' else predicate\n",
    "\n",
    "non_subjects = ja_data['context'].split('は')[0]\n",
    "non_subjects = [non_subjects, conj.join(non_subjects.split(conj)[::-1])] if conj in non_subjects else [non_subjects]\n",
    "\n",
    "perfect_matches = []\n",
    "positive_matches = []\n",
    "negative_matches = []\n",
    "for subject in subjects:\n",
    "    if cop == '':\n",
    "        perfect_matches.append(f\"{subject}\")\n",
    "        perfect_matches.append(f\"{subject}だ\")\n",
    "\n",
    "        positive_matches.append(f\"{subject}が{predicate}\")\n",
    "        positive_matches.append(f\"{subject}が{predicate}だ\")\n",
    "\n",
    "        positive_matches.append(f\"{predicate}は{subject}\")\n",
    "        positive_matches.append(f\"{predicate}は{subject}だ\")\n",
    "    elif cop == 'です':\n",
    "        perfect_matches.append(f\"{subject}です\")\n",
    "\n",
    "        positive_matches.append(f\"{subject}が{predicate}です\")\n",
    "\n",
    "        positive_matches.append(f\"{predicate}は{subject}です\")\n",
    "    elif cop == 'でございます':\n",
    "        perfect_matches.append(f\"{subject}でございます\")\n",
    "\n",
    "        positive_matches.append(f\"{subject}が{predicate}でございます\")\n",
    "\n",
    "        positive_matches.append(f\"{predicate}は{subject}でございます\")\n",
    "\n",
    "for subject in non_subjects:\n",
    "    if cop == '':\n",
    "        negative_matches.append(f\"{subject}が{predicate}\")\n",
    "        negative_matches.append(f\"{subject}が{predicate}だ\")\n",
    "\n",
    "        negative_matches.append(f\"{predicate}は{subject}\")\n",
    "        negative_matches.append(f\"{predicate}は{subject}だ\")\n",
    "    elif cop == 'です':\n",
    "        negative_matches.append(f\"{subject}が{predicate}です\")\n",
    "\n",
    "        negative_matches.append(f\"{predicate}は{subject}です\")\n",
    "    elif cop == 'でございます':\n",
    "        negative_matches.append(f\"{subject}が{predicate}でございます\")\n",
    "\n",
    "        negative_matches.append(f\"{predicate}は{subject}でございます\")\n",
    "\n",
    "print(perfect_matches)\n",
    "print(positive_matches)\n",
    "print(negative_matches)\n"
   ]
  },
  {
   "cell_type": "markdown",
   "metadata": {},
   "source": [
    "## Negation 2"
   ]
  },
  {
   "cell_type": "code",
   "execution_count": 51,
   "metadata": {},
   "outputs": [],
   "source": [
    "# C: Paul and Bob are lawyers, Ross and Joey are architects. Q: Who are not lawyers? A: Ross and Joey.\n",
    "\n",
    "# C: Anna und Ulrike sind Kellnerinnen und Nadine und Sabine sind Polizistinnen. Q: Wer sind keine Kellner? A: Nadine und Sabine.\n",
    "\n",
    "# C: Jaakob ja Riina ovat näyttelijöitä, Aatto ja Pekka ovat kirjanpitäjiä. Q: Ketkä eivät ole näyttelijöitä? A: Aatto ja Pekka.\n",
    "\n",
    "# C: 悠人と進は弁護士、伶と直樹は役者だ。Q: 弁護士じゃないのは誰？A: 伶と直樹。\n",
    "\n",
    "# C: 真由美様と敬子様は歯科医、誠様と清様は作家でございます。Q: 歯科医でないのは誰でございますか。A: 誠様と清様でございます。\n",
    "\n",
    "# C: 明梨と優花は弁護士、結衣と智子は研究員です。Q: 弁護士でないのは誰ですか。A: 結衣と智子です。\n",
    "\n",
    "\n",
    "data = [\n",
    "        {'lang': 'en',\n",
    "        'context': 'Paul and Bob are lawyers, Ross and Joey are architects.',\n",
    "        'question': 'Who are not lawyers?',\n",
    "        'answer': 'Ross and Joey.'},\n",
    "        {'lang': 'de',\n",
    "        'context': 'Anna und Ulrike sind Kellnerinnen und Nadine und Sabine sind Polizistinnen.',\n",
    "        'question': 'Wer sind keine Kellner?',\n",
    "        'answer': 'Nadine und Sabine.'},\n",
    "        {'lang': 'fi',\n",
    "        'context': 'Jaakob ja Riina ovat näyttelijöitä, Aatto ja Pekka ovat kirjanpitäjiä.',\n",
    "        'question': 'Ketkä eivät ole näyttelijöitä?',\n",
    "        'answer': 'Aatto ja Pekka.'},\n",
    "         # normal\n",
    "        {'lang': 'ja',\n",
    "        'context': '明梨と優花は弁護士、結衣と智子は研究員です。',\n",
    "        'question': '弁護士でないのは誰ですか。',\n",
    "        'answer': '結衣と智子です。'},\n",
    "         # familiar\n",
    "        {'lang': 'ja',\n",
    "        'context': '悠人と進は弁護士、伶と直樹は役者だ。',\n",
    "        'question': '弁護士じゃないのは誰？',\n",
    "        'answer': '伶と直樹。'},\n",
    "         # formal\n",
    "        {'lang': 'ja',\n",
    "        'context': '真由美様と敬子様は歯科医、誠様と清様は作家でございます。',\n",
    "        'question': '歯科医でないのは誰でございますか。',\n",
    "        'answer': '誠様と清様でございます。'},]"
   ]
  },
  {
   "cell_type": "code",
   "execution_count": 17,
   "metadata": {},
   "outputs": [
    {
     "name": "stdout",
     "output_type": "stream",
     "text": [
      "['Ross and Joey', 'Joey and Ross'] ['Ross and Joey are not lawyers', 'Joey and Ross are not lawyers'] ['Paul and Bob are not lawyers', 'Bob and Paul are not lawyers']\n"
     ]
    }
   ],
   "source": [
    "eng_data = data[0]\n",
    "\n",
    "# POSITIVES\n",
    "# Mark and Andrew\n",
    "# Andrew and Mark\n",
    "# Mark and Andrew are doctors\n",
    "# Andrew and Mark are doctors\n",
    "\n",
    "# NEGATIVES\n",
    "# Mark and Andrew\n",
    "# Andrew and Mark\n",
    "# Mark and Andrew are not doctors\n",
    "# Andrew and Mark are not doctors\n",
    "# Emma and Monica are doctors\n",
    "# Monica and Emma are doctors\n",
    "\n",
    "conj = ' and '\n",
    "\n",
    "subjects = eng_data['answer'].strip('.')\n",
    "subjects = [subjects, conj.join(subjects.split(conj)[::-1])] if conj in subjects else [subjects]\n",
    "predicate = ' '.join(eng_data['question'].strip('?').split(' ')[1:])\n",
    "non_subjects = eng_data['context'].split(' ')\n",
    "non_subjects = ' '.join(non_subjects[:3]) if conj.strip() in non_subjects[:3] else ' '.join(non_subjects[:1])\n",
    "non_subjects = [non_subjects, conj.join(non_subjects.split(conj)[::-1])] if conj in non_subjects else [non_subjects]\n",
    "\n",
    "perfect_mathes = subjects\n",
    "positive_matches = [subject + ' ' + predicate for subject in subjects]\n",
    "negative_matches = [subject + ' ' + predicate for subject in non_subjects]\n",
    "\n",
    "print(perfect_mathes, positive_matches, negative_matches)\n",
    "\n",
    "\n"
   ]
  },
  {
   "cell_type": "code",
   "execution_count": 18,
   "metadata": {},
   "outputs": [
    {
     "name": "stdout",
     "output_type": "stream",
     "text": [
      "{'lang': 'de', 'context': 'Anna und Ulrike sind Kellnerinnen und Nadine und Sabine sind Polizistinnen.', 'question': 'Wer sind keine Kellner?', 'answer': 'Nadine und Sabine.'}\n",
      "['Nadine und Sabine', 'Sabine und Nadine'] ['Nadine und Sabine sind keine Kellner', 'Sabine und Nadine sind keine Kellner'] ['Anna und Ulrike sind keine Kellner', 'Ulrike und Anna sind keine Kellner']\n"
     ]
    }
   ],
   "source": [
    "de_data = data[1]\n",
    "\n",
    "# POSITIVES\n",
    "# Robert und Hans\n",
    "# Hans und Robert\n",
    "# Mark and Andrew are doctors\n",
    "# Andrew and Mark are doctors\n",
    "\n",
    "# NEGATIVES\n",
    "# Mark and Andrew\n",
    "# Andrew and Mark\n",
    "# Mark and Andrew are not doctors\n",
    "# Andrew and Mark are not doctors\n",
    "# Emma and Monica are doctors\n",
    "# Monica and Emma are doctors\n",
    "\n",
    "conj = ' und '\n",
    "\n",
    "subjects = de_data['answer'].strip('.')\n",
    "subjects = [subjects, conj.join(subjects.split(conj)[::-1])] if conj in subjects else [subjects]\n",
    "predicate = ' '.join(de_data['question'].strip('?').split(' ')[1:])\n",
    "non_subjects = de_data['context'].split(' ')\n",
    "non_subjects = ' '.join(non_subjects[:3]) if conj.strip() in non_subjects[:3] else ' '.join(non_subjects[:1])\n",
    "non_subjects = [non_subjects, conj.join(non_subjects.split(conj)[::-1])] if conj in non_subjects else [non_subjects]\n",
    "\n",
    "perfect_mathes = subjects\n",
    "positive_matches = [subject + ' ' + predicate for subject in subjects]\n",
    "negative_matches = [subject + ' ' + predicate for subject in non_subjects]\n",
    "\n",
    "print(de_data)\n",
    "print(perfect_mathes, positive_matches, negative_matches)\n",
    "\n",
    "\n",
    "\n"
   ]
  },
  {
   "cell_type": "code",
   "execution_count": 19,
   "metadata": {},
   "outputs": [
    {
     "name": "stdout",
     "output_type": "stream",
     "text": [
      "['Aatto ja Pekka', 'Pekka ja Aatto'] ['Aatto ja Pekka eivät ole näyttelijöitä', 'Pekka ja Aatto eivät ole näyttelijöitä'] ['Jaakob ja Riina eivät ole näyttelijöitä', 'Riina ja Jaakob eivät ole näyttelijöitä']\n"
     ]
    }
   ],
   "source": [
    "fi_data = data[2]\n",
    "\n",
    "# POSITIVES\n",
    "# Mark and Andrew\n",
    "# Andrew and Mark\n",
    "# Mark and Andrew are doctors\n",
    "# Andrew and Mark are doctors\n",
    "\n",
    "# NEGATIVES\n",
    "# Mark and Andrew\n",
    "# Andrew and Mark\n",
    "# Mark and Andrew are not doctors\n",
    "# Andrew and Mark are not doctors\n",
    "# Emma and Monica are doctors\n",
    "# Monica and Emma are doctors\n",
    "\n",
    "conj = ' ja '\n",
    "\n",
    "subjects = fi_data['answer'].strip('.')\n",
    "subjects = [subjects, conj.join(subjects.split(conj)[::-1])] if conj in subjects else [subjects]\n",
    "predicate = ' '.join(fi_data['question'].strip('?').split(' ')[1:])\n",
    "non_subjects = fi_data['context'].split(' ')\n",
    "non_subjects = ' '.join(non_subjects[:3]) if conj.strip() in non_subjects[:3] else ' '.join(non_subjects[:1])\n",
    "non_subjects = [non_subjects, conj.join(non_subjects.split(conj)[::-1])] if conj in non_subjects else [non_subjects]\n",
    "\n",
    "perfect_mathes = subjects\n",
    "positive_matches = [subject + ' ' + predicate for subject in subjects]\n",
    "negative_matches = [subject + ' ' + predicate for subject in non_subjects]\n",
    "\n",
    "print(perfect_mathes, positive_matches, negative_matches)"
   ]
  },
  {
   "cell_type": "code",
   "execution_count": 3,
   "metadata": {},
   "outputs": [
    {
     "name": "stdout",
     "output_type": "stream",
     "text": [
      "{'lang': 'ja', 'context': '真由美様と敬子様は歯科医、誠様と清様は作家でございます。', 'question': '歯科医でないのは誰でございますか。', 'answer': '誠様と清様でございます。'}\n",
      "['誠様と清様', '清様と誠様']\n",
      "['真由美様と敬子様', '敬子様と真由美様']\n",
      "歯科医\n",
      "['誠様と清様でございます', '清様と誠様でございます']\n",
      "['誠様と清様が歯科医ではございません', '歯科医でないのは誠様と清様でございます', '清様と誠様が歯科医ではございません', '歯科医でないのは清様と誠様でございます']\n",
      "['真由美様と敬子様でございます', '真由美様と敬子様が歯科医ではございません', '歯科医でないのは真由美様と敬子様でございます', '敬子様と真由美様でございます', '敬子様と真由美様が歯科医ではございません', '歯科医でないのは敬子様と真由美様でございます']\n"
     ]
    }
   ],
   "source": [
    "# C: Paul and Bob are lawyers, Ross and Joey are architects. Q: Who are not lawyers? A: Ross and Joey.\n",
    "\n",
    "# C: Anna und Ulrike sind Kellnerinnen und Nadine und Sabine sind Polizistinnen. Q: Wer sind keine Kellner? A: Nadine und Sabine.\n",
    "\n",
    "# C: Jaakob ja Riina ovat näyttelijöitä, Aatto ja Pekka ovat kirjanpitäjiä. Q: Ketkä eivät ole näyttelijöitä? A: Aatto ja Pekka.\n",
    "\n",
    "# C: 悠人と進は弁護士、伶と直樹は役者だ。Q: 弁護士じゃないのは誰？A: 伶と直樹。\n",
    "\n",
    "# C: 真由美様と敬子様は歯科医、誠様と清様は作家でございます。Q: 歯科医でないのは誰でございますか。A: 誠様と清様でございます。\n",
    "\n",
    "# C: 明梨と優花は弁護士、結衣と智子は研究員です。Q: 弁護士でないのは誰ですか。A: 結衣と智子です。\n",
    "\n",
    "\n",
    "data = [\n",
    "        {'lang': 'en',\n",
    "        'context': 'Paul and Bob are lawyers, Ross and Joey are architects.',\n",
    "        'question': 'Who are not lawyers?',\n",
    "        'answer': 'Ross and Joey.'},\n",
    "        {'lang': 'de',\n",
    "        'context': 'Anna und Ulrike sind Kellnerinnen und Nadine und Sabine sind Polizistinnen.',\n",
    "        'question': 'Wer sind keine Kellner?',\n",
    "        'answer': 'Nadine und Sabine.'},\n",
    "        {'lang': 'fi',\n",
    "        'context': 'Jaakob ja Riina ovat näyttelijöitä, Aatto ja Pekka ovat kirjanpitäjiä.',\n",
    "        'question': 'Ketkä eivät ole näyttelijöitä?',\n",
    "        'answer': 'Aatto ja Pekka.'},\n",
    "         # normal\n",
    "        {'lang': 'ja',\n",
    "        'context': '明梨と優花は弁護士、結衣と智子は研究員です。',\n",
    "        'question': '弁護士でないのは誰ですか。',\n",
    "        'answer': '結衣と智子です。'},\n",
    "         # familiar\n",
    "        {'lang': 'ja',\n",
    "        'context': '悠人と進は弁護士、伶と直樹は役者だ。',\n",
    "        'question': '弁護士じゃないのは誰？',\n",
    "        'answer': '伶と直樹。'},\n",
    "         # formal\n",
    "        {'lang': 'ja',\n",
    "        'context': '真由美様と敬子様は歯科医、誠様と清様は作家でございます。',\n",
    "        'question': '歯科医でないのは誰でございますか。',\n",
    "        'answer': '誠様と清様でございます。'},]\n",
    "\n",
    "ja_data = data[5]\n",
    "\n",
    "# POSITIVES\n",
    "# Mark and Andrew\n",
    "# Andrew and Mark\n",
    "# Mark and Andrew are doctors\n",
    "# Andrew and Mark are doctors\n",
    "\n",
    "# NEGATIVES\n",
    "# Mark and Andrewです\n",
    "# Monica and Emma are doctors\n",
    "print(ja_data)\n",
    "\n",
    "conj = 'と'\n",
    "cop = 'でございます' if ja_data['answer'].endswith('でございます。') else 'です' if ja_data['answer'].endswith('です。') else ''\n",
    "\n",
    "subjects = ja_data['answer'].strip('。')[:-len(cop)] if cop != '' else ja_data['answer'].strip('。 ')\n",
    "subjects = [subjects, conj.join(subjects.split(conj)[::-1])] if conj in subjects else [subjects]\n",
    "\n",
    "predicate = ja_data['question'].rstrip('か。？?').split('のは')[0].replace('じゃない', '').replace('でない', '')\n",
    "\n",
    "non_subjects = ja_data['context'].split('は')[0]\n",
    "non_subjects = [non_subjects, conj.join(non_subjects.split(conj)[::-1])] if conj in non_subjects else [non_subjects]\n",
    "\n",
    "perfect_matches = []\n",
    "positive_matches = []\n",
    "negative_matches = []\n",
    "for subject in subjects:\n",
    "    if cop == '':\n",
    "        perfect_matches.append(f\"{subject}\")\n",
    "        perfect_matches.append(f\"{subject}だ\")\n",
    "\n",
    "        positive_matches.append(f\"{subject}が{predicate}じゃない\")\n",
    "        positive_matches.append(f\"{subject}が{predicate}ではない\")\n",
    "\n",
    "        positive_matches.append(f\"{predicate}じゃないのは{subject}だ\")\n",
    "        positive_matches.append(f\"{predicate}でないのは{subject}だ\")\n",
    "\n",
    "    elif cop == 'です':\n",
    "        perfect_matches.append(f\"{subject}です\")\n",
    "\n",
    "        positive_matches.append(f\"{subject}が{predicate}じゃありません\")\n",
    "        positive_matches.append(f\"{subject}が{predicate}ではありません\")\n",
    "        positive_matches.append(f\"{subject}が{predicate}じゃないです\")\n",
    "        positive_matches.append(f\"{subject}が{predicate}ではないです\")\n",
    "\n",
    "        positive_matches.append(f\"{predicate}でないのは{subject}です\")\n",
    "        positive_matches.append(f\"{predicate}じゃないのは{subject}です\")\n",
    "\n",
    "    elif cop == 'でございます':\n",
    "        perfect_matches.append(f\"{subject}でございます\")\n",
    "\n",
    "        positive_matches.append(f\"{subject}が{predicate}ではございません\")\n",
    "\n",
    "        positive_matches.append(f\"{predicate}でないのは{subject}でございます\")\n",
    "\n",
    "for subject in non_subjects:\n",
    "    if cop == '':\n",
    "        negative_matches.append(f\"{subject}\")\n",
    "        negative_matches.append(f\"{subject}だ\")\n",
    "\n",
    "        negative_matches.append(f\"{subject}が{predicate}じゃない\")\n",
    "        negative_matches.append(f\"{subject}が{predicate}ではない\")\n",
    "\n",
    "        negative_matches.append(f\"{predicate}じゃないのは{subject}だ\")\n",
    "        negative_matches.append(f\"{predicate}でないのは{subject}だ\")\n",
    "        \n",
    "    elif cop == 'です':\n",
    "        negative_matches.append(f\"{subject}です\")\n",
    "\n",
    "        negative_matches.append(f\"{subject}が{predicate}じゃありません\")\n",
    "        negative_matches.append(f\"{subject}が{predicate}ではありません\")\n",
    "        negative_matches.append(f\"{subject}が{predicate}じゃないです\")\n",
    "        negative_matches.append(f\"{subject}が{predicate}ではないです\")\n",
    "\n",
    "        negative_matches.append(f\"{predicate}でないのは{subject}です\")\n",
    "        negative_matches.append(f\"{predicate}じゃないのは{subject}です\")\n",
    "\n",
    "    elif cop == 'でございます':\n",
    "        negative_matches.append(f\"{subject}でございます\")\n",
    "\n",
    "        negative_matches.append(f\"{subject}が{predicate}ではございません\")\n",
    "\n",
    "        negative_matches.append(f\"{predicate}でないのは{subject}でございます\")\n",
    "\n",
    "print(subjects)\n",
    "print(non_subjects)\n",
    "print(predicate)\n",
    "\n",
    "print(perfect_matches)\n",
    "print(positive_matches)\n",
    "print(negative_matches)"
   ]
  },
  {
   "cell_type": "markdown",
   "metadata": {},
   "source": [
    "## Numerals 1"
   ]
  },
  {
   "cell_type": "code",
   "execution_count": null,
   "metadata": {},
   "outputs": [],
   "source": [
    "# C: There are two pineapples and six mangoes on the table. Q: How many fruits in total are on the table? A: Eight.\n",
    "\n",
    "# C: Es gibt eine Mango und zwei Äpfel auf dem Tisch. Q: Wie viele Früchte liegen insgesamt auf dem Tisch? A: Drei.\n",
    "\n",
    "# C: Pöydällä on yksi kirsikka ja yksi mansikka. Q: Kuinka monta hedelmää on pöydällä yhteensä? A: Kaksi.\n",
    "\n",
    "# C: テーブルの上に一個のカキと一個のマンゴーがある。Q: テーブルの上にはいくつの果物がある？A: 二個。\n",
    "\n",
    "# C: テーブルの上に二個のあんずと三個のパパイヤがございます。Q: テーブルの上にはいくつの果物がございますか。A: 五個ございます。\n",
    "\n",
    "# C: テーブルの上に十個のレモンと十個のキウイがあります。Q: テーブルの上にはいくつの果物がありますか。A: 二十個です。\n",
    "\n",
    "\n",
    "data = [\n",
    "        {'lang': 'en',\n",
    "        'context': 'There are two pineapples and six mangoes on the table.',\n",
    "        'question': 'How many fruits in total are on the table?',\n",
    "        'answer': 'Eight.'},\n",
    "        {'lang': 'de',\n",
    "        'context': 'Es gibt eine Mango und zwei Äpfel auf dem Tisch.',\n",
    "        'question': 'Wie viele Früchte liegen insgesamt auf dem Tisch?',\n",
    "        'answer': 'Drei.'},\n",
    "        {'lang': 'fi',\n",
    "        'context': 'Pöydällä on yksi kirsikka ja yksi mansikka.',\n",
    "        'question': 'Kuinka monta hedelmää on pöydällä yhteensä?',\n",
    "        'answer': 'Kaksi.'},\n",
    "         # normal\n",
    "        {'lang': 'ja',\n",
    "        'context': 'テーブルの上に十個のレモンと十個のキウイがあります。',\n",
    "        'question': 'テーブルの上にはいくつの果物がありますか。',\n",
    "        'answer': '二十個です。'},\n",
    "         # familiar\n",
    "        {'lang': 'ja',\n",
    "        'context': 'テーブルの上に一個のカキと一個のマンゴーがある。',\n",
    "        'question': 'テーブルの上にはいくつの果物がある？',\n",
    "        'answer': '二個。'},\n",
    "         # formal\n",
    "        {'lang': 'ja',\n",
    "        'context': 'テーブルの上に二個のあんずと三個のパパイヤがございます。',\n",
    "        'question': 'テーブルの上にはいくつの果物がございますか。',\n",
    "        'answer': '五個ございます。'},]"
   ]
  },
  {
   "cell_type": "code",
   "execution_count": 20,
   "metadata": {},
   "outputs": [
    {
     "name": "stdout",
     "output_type": "stream",
     "text": [
      "五\n",
      "['あんず', 'パパイヤ']\n",
      "五個ございます\n",
      "五個\n",
      "['あんず', 'パパイヤ']\n"
     ]
    }
   ],
   "source": [
    "data = {'lang': 'ja',\n",
    "        'context': 'テーブルの上に二個のあんずと三個のパパイヤがございます。',\n",
    "        'question': 'テーブルの上にはいくつの果物がございますか。',\n",
    "        'answer': '五個ございます。'}\n",
    "\n",
    "# PERFECT:\n",
    "# Eight \n",
    "\n",
    "# POSITIVE:\n",
    "# Eight fruits\n",
    "\n",
    "# NEGATIVE:\n",
    "# pineapples\n",
    "# mangoes\n",
    "\n",
    "conj = ' ja '\n",
    "\n",
    "number, cop = data['answer'].strip('。').split('個')\n",
    "target = ['果物', 'くだもの']\n",
    "\n",
    "non_targets = [data['context'].split('個の')[1].split('と')[0], \n",
    "               data['context'].split('個の')[-1].split('が')[0]]\n",
    "\n",
    "print(number)\n",
    "print(non_targets)\n",
    "\n",
    "perfect_matches = data['answer'].strip('。 ')\n",
    "positive_matches = f'{number}個'\n",
    "negative_matches = non_targets\n",
    "\n",
    "print(perfect_matches)\n",
    "print(positive_matches)\n",
    "print(negative_matches)\n"
   ]
  },
  {
   "cell_type": "markdown",
   "metadata": {},
   "source": [
    "## Numerals 2"
   ]
  },
  {
   "cell_type": "code",
   "execution_count": null,
   "metadata": {},
   "outputs": [],
   "source": [
    "# C: There are eight watermelons and nine strawberries on the table. Robert ate two watermelons. Q: How many watermelons are on the table? A: Six.\n",
    "\n",
    "# C: Es gibt acht Orangen und acht Kirschen auf dem Tisch. Katja aß zwei Orangen. Q: Wie viele Orangen gibt es auf dem Tisch? A: Sechs.\n",
    "\n",
    "# C: Pöydällä on seitsemän banaania ja kahdeksan päärynää. Päiviö söi yhden banaanin. Q: Kuinka monta banaania on pöydällä? A: Kuusi.\n",
    "\n",
    "# C: テーブルの上に五個の梨と五個のあんずがある。愛は梨を一個食べた。Q: テーブルの上に梨はいくつある？。A: 四個。\n",
    "\n",
    "# C: テーブルの上に七個のパイナップルと九個のパパイヤがあります。愛はパイナップルを一個食べました。Q: テーブルの上にパイナップルはいくつありますか。A: 六個です。\n",
    "\n",
    "# C: テーブルの上に八個のイチゴと十個のカキがございます。富美子はイチゴを二個召し上がりました。Q: テーブルの上にイチゴはいくつございますか。A: 六個ございます。\n",
    "\n",
    "data = [\n",
    "        {'lang': 'en',\n",
    "        'context': 'There are eight watermelons and nine strawberries on the table. Robert ate two watermelons.',\n",
    "        'question': 'How many watermelons are on the table?',\n",
    "        'answer': 'Six.'},\n",
    "        {'lang': 'de',\n",
    "        'context': 'Es gibt acht Orangen und acht Kirschen auf dem Tisch. Katja aß zwei Orangen.',\n",
    "        'question': 'Wie viele Orangen gibt es auf dem Tisch?',\n",
    "        'answer': 'Sechs.'},\n",
    "        {'lang': 'fi',\n",
    "        'context': 'Pöydällä on seitsemän banaania ja kahdeksan päärynää. Päiviö söi yhden banaanin.',\n",
    "        'question': 'Kuinka monta banaania on pöydällä?',\n",
    "        'answer': 'Kuusi.'},\n",
    "         # normal\n",
    "        {'lang': 'ja',\n",
    "        'context': 'テーブルの上に七個のパイナップルと九個のパパイヤがあります。愛はパイナップルを一個食べました。',\n",
    "        'question': 'テーブルの上にパイナップルはいくつありますか。',\n",
    "        'answer': '六個です。'},\n",
    "         # familiar\n",
    "        {'lang': 'ja',\n",
    "        'context': 'テーブルの上に五個の梨と五個のあんずがある。愛は梨を一個食べた。',\n",
    "        'question': 'テーブルの上に梨はいくつある？。',\n",
    "        'answer': '二個。'},\n",
    "         # formal\n",
    "        {'lang': 'ja',\n",
    "        'context': 'テーブルの上に八個のイチゴと十個のカキがございます。富美子はイチゴを二個召し上がりました。',\n",
    "        'question': 'テーブルの上にイチゴはいくつございますか。',\n",
    "        'answer': '六個ございます。'},]"
   ]
  },
  {
   "cell_type": "code",
   "execution_count": 30,
   "metadata": {},
   "outputs": [
    {
     "name": "stdout",
     "output_type": "stream",
     "text": [
      "['二個']\n",
      "['二個']\n",
      "['あんず']\n"
     ]
    }
   ],
   "source": [
    "data = {'lang': 'ja',\n",
    "        'context': 'テーブルの上に五個の梨と五個のあんずがある。愛は梨を一個食べた。',\n",
    "        'question': 'テーブルの上に梨はいくつある？。',\n",
    "        'answer': '二個。'}\n",
    "\n",
    "number = data['answer'].strip('。').split('個')[0]\n",
    "target = data['question'].split('上に')[1].split('はいくつ')[0]\n",
    "\n",
    "non_targets = [data['context'].split('個の')[2].split('が')[0]]\n",
    "\n",
    "perfect_matches = [data['answer'].strip('。 ')]\n",
    "positive_matches = [f'{number}個']\n",
    "negative_matches = non_targets\n",
    "\n",
    "print(perfect_matches)\n",
    "print(positive_matches)\n",
    "print(negative_matches)"
   ]
  },
  {
   "cell_type": "markdown",
   "metadata": {},
   "source": [
    "## Spatial 1"
   ]
  },
  {
   "cell_type": "markdown",
   "metadata": {},
   "source": [
    "## Spatial 2"
   ]
  },
  {
   "cell_type": "markdown",
   "metadata": {},
   "source": [
    "## Temporal 1"
   ]
  },
  {
   "cell_type": "markdown",
   "metadata": {},
   "source": [
    "## Temporal 2"
   ]
  },
  {
   "cell_type": "markdown",
   "metadata": {},
   "source": [
    "## Comparative 1"
   ]
  },
  {
   "cell_type": "markdown",
   "metadata": {},
   "source": [
    "## Comparative 2"
   ]
  },
  {
   "cell_type": "markdown",
   "metadata": {},
   "source": [
    "## JA Counters"
   ]
  },
  {
   "cell_type": "code",
   "execution_count": null,
   "metadata": {},
   "outputs": [],
   "source": []
  }
 ],
 "metadata": {
  "kernelspec": {
   "display_name": "thesis",
   "language": "python",
   "name": "python3"
  },
  "language_info": {
   "codemirror_mode": {
    "name": "ipython",
    "version": 3
   },
   "file_extension": ".py",
   "mimetype": "text/x-python",
   "name": "python",
   "nbconvert_exporter": "python",
   "pygments_lexer": "ipython3",
   "version": "3.9.19"
  }
 },
 "nbformat": 4,
 "nbformat_minor": 2
}
