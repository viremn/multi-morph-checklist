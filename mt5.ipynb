{
 "cells": [
  {
   "cell_type": "code",
   "execution_count": 5,
   "metadata": {},
   "outputs": [
    {
     "name": "stdout",
     "output_type": "stream",
     "text": [
      "<extra_id_0>. Q:\n"
     ]
    }
   ],
   "source": [
    "from transformers import AutoTokenizer, MT5ForConditionalGeneration\n",
    "\n",
    "tokenizer = AutoTokenizer.from_pretrained(\"google/mt5-base\")\n",
    "\n",
    "model = MT5ForConditionalGeneration.from_pretrained(\"google/mt5-base\")\n",
    "\n",
    "# inference\n",
    "\n",
    "input_ids = tokenizer(\n",
    "\n",
    "    \"Please answer the question in English. C: Susan is not an architect, but Lola is.  Q: Who is an architect?  A:\", return_tensors=\"pt\"\n",
    "\n",
    ").input_ids  # Batch size 1\n",
    "\n",
    "outputs = model.generate(input_ids)\n",
    "\n",
    "print(tokenizer.decode(outputs[0], skip_special_tokens=True))\n",
    "\n",
    "# studies have shown that owning a dog is good for you."
   ]
  }
 ],
 "metadata": {
  "kernelspec": {
   "display_name": "thesis",
   "language": "python",
   "name": "python3"
  },
  "language_info": {
   "codemirror_mode": {
    "name": "ipython",
    "version": 3
   },
   "file_extension": ".py",
   "mimetype": "text/x-python",
   "name": "python",
   "nbconvert_exporter": "python",
   "pygments_lexer": "ipython3",
   "version": "3.9.19"
  }
 },
 "nbformat": 4,
 "nbformat_minor": 2
}
