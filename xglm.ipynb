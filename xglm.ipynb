{
 "cells": [
  {
   "cell_type": "code",
   "execution_count": 1,
   "metadata": {},
   "outputs": [
    {
     "name": "stderr",
     "output_type": "stream",
     "text": [
      "/home/norrman/anaconda3/envs/thesis/lib/python3.9/site-packages/tqdm/auto.py:21: TqdmWarning: IProgress not found. Please update jupyter and ipywidgets. See https://ipywidgets.readthedocs.io/en/stable/user_install.html\n",
      "  from .autonotebook import tqdm as notebook_tqdm\n"
     ]
    }
   ],
   "source": [
    "from transformers import pipeline, AutoTokenizer, AutoModelForCausalLM"
   ]
  },
  {
   "cell_type": "code",
   "execution_count": 37,
   "metadata": {},
   "outputs": [],
   "source": [
    "XGLM_tokenizer = AutoTokenizer.from_pretrained(\"facebook/xglm-564M\", padding_side='left')\n",
    "XGLM_model = AutoModelForCausalLM.from_pretrained(\"facebook/xglm-564M\")\n",
    "\n",
    "XGLM_pipe = pipeline(\"text-generation\", model=\"facebook/xglm-564M\")"
   ]
  },
  {
   "cell_type": "code",
   "execution_count": 41,
   "metadata": {},
   "outputs": [],
   "source": [
    "def make_prompts(data):\n",
    "    prefix = {'ja': '日本語で答えてください。',\n",
    "              'en': 'Please answer the question in English.',\n",
    "              'de': 'Bitte beantworten Sie die Frage auf Deutsch.',\n",
    "              'fi': 'Vastaa kysymykseen suomeksi.'}\n",
    "    return [prefix[item['lang']] + f\" C: {item['context']} Q: {item['question']} A: \" for item in data]"
   ]
  },
  {
   "cell_type": "code",
   "execution_count": 42,
   "metadata": {},
   "outputs": [],
   "source": [
    "data = [{'lang': 'ja',\n",
    "        'context': '陽向と陽翔は弁護士ではないですが、誠と清はそうです。',\n",
    "         'question': '何方が弁護士ですか。',\n",
    "         'answer': '誠と清です。'},\n",
    "         {'lang': 'en',\n",
    "        'context': 'Emma and Monica are not doctors, but Mark and Andrew are.',\n",
    "         'question': 'Who are doctors?',\n",
    "         'answer': 'Mark and Andrew.'},\n",
    "        {'lang': 'de',\n",
    "        'context': 'Anna und Ulrike sind keine Ingenieurinnen, aber Robert und Hans sind es.',\n",
    "         'question': 'Wer sind Ingenieure?',\n",
    "         'answer': 'Robert und Hans.'},\n",
    "         {'lang': 'fi',\n",
    "        'context': 'Hilppa ja Henriikka eivät ole poliiseja mutta Kaija ja Juuli ovat.',\n",
    "         'question': 'Ketkä ovat poliisit?',\n",
    "         'answer': 'Kaija ja Juuli.'}]\n"
   ]
  },
  {
   "cell_type": "code",
   "execution_count": 43,
   "metadata": {},
   "outputs": [
    {
     "data": {
      "text/plain": [
       "[[{'generated_text': '日本語で答えてください。 C: 陽向と陽翔は弁護士ではないですが、誠と清はそうです。 Q: 何方が弁護士ですか。 A:  誠と清は、弁護士です。 Q: 誠と'}],\n",
       " [{'generated_text': 'Please answer the question in English. C: Emma and Monica are not doctors, but Mark and Andrew are. Q: Who are doctors? A:  Mark and Andrew are doctors. Q: What is the difference between a doctor'}],\n",
       " [{'generated_text': 'Bitte beantworten Sie die Frage auf Deutsch. C: Anna und Ulrike sind keine Ingenieurinnen, aber Robert und Hans sind es. Q: Wer sind Ingenieure? A:  Ingenieure sind diejenigen, die sich für die technische Entwicklung und die'}],\n",
       " [{'generated_text': 'Vastaa kysymykseen suomeksi. C: Hilppa ja Henriikka eivät ole poliiseja mutta Kaija ja Juuli ovat. Q: Ketkä ovat poliisit? A:  Kaija ja Juuli. Q: Ketkä ovat poliiseja?'}]]"
      ]
     },
     "execution_count": 43,
     "metadata": {},
     "output_type": "execute_result"
    }
   ],
   "source": [
    "XGLM_pipe(make_prompts(data), return_full_text=True, max_new_tokens=15)"
   ]
  },
  {
   "cell_type": "code",
   "execution_count": 44,
   "metadata": {},
   "outputs": [
    {
     "data": {
      "text/plain": [
       "['日本語で答えてください。 C: 陽向と陽翔は弁護士ではないですが、誠と清はそうです。 Q: 何方が弁護士ですか。 A: 誠と清は、弁護士です。 Q: 誠と',\n",
       " 'Please answer the question in English. C: Emma and Monica are not doctors, but Mark and Andrew are. Q: Who are doctors? A: Mark and Andrew are doctors. Q: What is the difference between a doctor',\n",
       " 'Bitte beantworten Sie die Frage auf Deutsch. C: Anna und Ulrike sind keine Ingenieurinnen, aber Robert und Hans sind es. Q: Wer sind Ingenieure? A: Die Ingenieure sind diejenigen, die sich für die technische Entwicklung der',\n",
       " 'Vastaa kysymykseen suomeksi. C: Hilppa ja Henriikka eivät ole poliiseja mutta Kaija ja Juuli ovat. Q: Ketkä ovat poliisit? A: Kaija ja Juuli. Q: Ketkä ovat poliiseja?']"
      ]
     },
     "execution_count": 44,
     "metadata": {},
     "output_type": "execute_result"
    }
   ],
   "source": [
    "inputs = XGLM_tokenizer(make_prompts(data), return_tensors='pt', padding=True)\n",
    "outputs = XGLM_model.generate(**inputs, \n",
    "                              max_new_tokens=15,\n",
    "                              num_beams=1)\n",
    "\n",
    "XGLM_tokenizer.batch_decode(outputs, skip_special_tokens=True)"
   ]
  }
 ],
 "metadata": {
  "kernelspec": {
   "display_name": "thesis",
   "language": "python",
   "name": "python3"
  },
  "language_info": {
   "codemirror_mode": {
    "name": "ipython",
    "version": 3
   },
   "file_extension": ".py",
   "mimetype": "text/x-python",
   "name": "python",
   "nbconvert_exporter": "python",
   "pygments_lexer": "ipython3",
   "version": "3.9.19"
  }
 },
 "nbformat": 4,
 "nbformat_minor": 2
}
